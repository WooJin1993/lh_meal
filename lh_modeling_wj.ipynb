{
  "nbformat": 4,
  "nbformat_minor": 0,
  "metadata": {
    "colab": {
      "name": "lh_modeling_wj.ipynb",
      "private_outputs": true,
      "provenance": [],
      "collapsed_sections": [],
      "authorship_tag": "ABX9TyMv0IJ3gfABoB77r4fqvbNv",
      "include_colab_link": true
    },
    "kernelspec": {
      "name": "python3",
      "display_name": "Python 3"
    }
  },
  "cells": [
    {
      "cell_type": "markdown",
      "metadata": {
        "id": "view-in-github",
        "colab_type": "text"
      },
      "source": [
        "<a href=\"https://colab.research.google.com/github/WooJin1993/lh_meal/blob/main/lh_modeling_wj.ipynb\" target=\"_parent\"><img src=\"https://colab.research.google.com/assets/colab-badge.svg\" alt=\"Open In Colab\"/></a>"
      ]
    },
    {
      "cell_type": "code",
      "metadata": {
        "id": "T626o45tciHi"
      },
      "source": [
        "!python --version"
      ],
      "execution_count": null,
      "outputs": []
    },
    {
      "cell_type": "code",
      "metadata": {
        "id": "eKsoAji2dA4P"
      },
      "source": [
        "# Link colab with drive\n",
        "\n",
        "from google.colab import drive\n",
        "drive.mount('/content/gdrive')"
      ],
      "execution_count": null,
      "outputs": []
    },
    {
      "cell_type": "code",
      "metadata": {
        "id": "g-rWuS67yQ2e"
      },
      "source": [
        "# Connect file directory\n",
        "\n",
        "%cd \"/content/gdrive/MyDrive/Dacon_data\""
      ],
      "execution_count": null,
      "outputs": []
    },
    {
      "cell_type": "code",
      "metadata": {
        "id": "ejJ6c7kMy-b_"
      },
      "source": [
        "from keras.callbacks import EarlyStopping\n",
        "from keras.layers import Activation, Dense, Dropout\n",
        "from keras.models import Sequential\n",
        "from keras.optimizers import Adam\n",
        "\n",
        "import numpy as np\n",
        "import pandas as pd\n",
        "from sklearn.model_selection import train_test_split\n",
        "import warnings\n",
        "\n",
        "warnings.filterwarnings('ignore')"
      ],
      "execution_count": null,
      "outputs": []
    },
    {
      "cell_type": "code",
      "metadata": {
        "id": "BkPHdYq2y_DO"
      },
      "source": [
        "# Load data\n",
        "\n",
        "train = pd.read_csv('./data/train_wj.csv') # load train data\n",
        "test = pd.read_csv('./data/test_wj.csv')   # load test data"
      ],
      "execution_count": null,
      "outputs": []
    },
    {
      "cell_type": "code",
      "metadata": {
        "id": "oNtXzZk3kqGp"
      },
      "source": [
        "train.drop(columns=[\"Lunch_score\", \"Dinner_score\"], inplace=True)"
      ],
      "execution_count": null,
      "outputs": []
    },
    {
      "cell_type": "code",
      "metadata": {
        "id": "Gh2VfU-izSIw"
      },
      "source": [
        "train = pd.get_dummies(train, columns=[\"Dayofweek\"], prefix=\"Dayofweek\", drop_first=True)\n",
        "test = pd.get_dummies(test, columns=[\"Dayofweek\"], prefix=\"Dayofweek\", drop_first=True)"
      ],
      "execution_count": null,
      "outputs": []
    },
    {
      "cell_type": "code",
      "metadata": {
        "id": "VR1oxX7azcUT"
      },
      "source": [
        "# Split data into x and y\n",
        "\n",
        "train_cols = train.columns.values\n",
        "X_cols_rm = [\"Date\", \"Breakfast\", \"Lunch\", \"Dinner\", \"N_lunch\", \"N_dinner\", \"Rate_lunch\", \"Rate_dinner\"]\n",
        "X_cols = train_cols[np.isin(train_cols, X_cols_rm, invert=True)]\n",
        "y_cols = [\"N_lunch\", \"N_dinner\"]\n",
        "\n",
        "X_train = train.loc[:, X_cols] # input of train data\n",
        "y_train = train.loc[:, y_cols] # output of train data\n",
        "X_test = test.loc[:, X_cols]   # input of test data"
      ],
      "execution_count": null,
      "outputs": []
    },
    {
      "cell_type": "code",
      "metadata": {
        "id": "c2Mo9OuuzdS0"
      },
      "source": [
        "# Split train data into train data and valid data\n",
        "\n",
        "train_sample, valid = train_test_split(train, test_size=0.2) # randomly sample 80% of train data"
      ],
      "execution_count": null,
      "outputs": []
    },
    {
      "cell_type": "code",
      "metadata": {
        "id": "pp2vuxNLzekl"
      },
      "source": [
        "# Split data into x and y\n",
        "\n",
        "X_train_sample = train_sample.loc[:, X_cols]  # input of train_sample data\n",
        "y_train_sample = train_sample.loc[:, y_cols]  # output of train_sample data\n",
        "X_valid = valid.loc[:, X_cols]                # input of valid data\n",
        "y_valid = valid.loc[:, y_cols]                # output of valid data"
      ],
      "execution_count": null,
      "outputs": []
    },
    {
      "cell_type": "code",
      "metadata": {
        "id": "BLxW06pWz6w6"
      },
      "source": [
        "X_train_sample = X_train_sample.astype(float)\n",
        "y_train_sample = y_train_sample.astype(float)"
      ],
      "execution_count": null,
      "outputs": []
    },
    {
      "cell_type": "code",
      "metadata": {
        "id": "iYnaSCMwzgCc"
      },
      "source": [
        "# Define Keras model\n",
        "\n",
        "model = Sequential()\n",
        "model.add(Dense(units=128, activation='relu', input_dim=X_train.shape[1]))\n",
        "model.add(Dense(units=256, activation='relu'))\n",
        "model.add(Dense(units=128, activation='relu'))\n",
        "# model.add(Dense(units=32, activation='relu'))\n",
        "# model.add(Dense(units=16, activation='relu'))\n",
        "model.add(Dense(units=len(y_cols), activation='linear'))"
      ],
      "execution_count": null,
      "outputs": []
    },
    {
      "cell_type": "code",
      "metadata": {
        "id": "E0090KYOzhAW"
      },
      "source": [
        "# Compile Keras model\n",
        "\n",
        "lr = 0.001\n",
        "opt = Adam(learning_rate=lr)\n",
        "model.compile(loss='mae', \n",
        "              optimizer=opt, \n",
        "              metrics=['mae'])"
      ],
      "execution_count": null,
      "outputs": []
    },
    {
      "cell_type": "code",
      "metadata": {
        "id": "_Lvb4HUfziWF"
      },
      "source": [
        "# Fit Keras model\n",
        "\n",
        "epochs = 3000\n",
        "# batch = None\n",
        "es = EarlyStopping(monitor='val_loss', mode='min', verbose=1, patience=100)\n",
        "valid_split = 0.2\n",
        "\n",
        "model.fit(x                = X_train_sample,\n",
        "          y                = y_train_sample, \n",
        "          epochs           = epochs, \n",
        "          # batch_size       = batch, \n",
        "          callbacks        = [es],\n",
        "          validation_split = valid_split)"
      ],
      "execution_count": null,
      "outputs": []
    },
    {
      "cell_type": "code",
      "metadata": {
        "id": "BcyM1bsLzjVn"
      },
      "source": [
        "# Evaluate Keras model\n",
        "\n",
        "model.evaluate(X_valid, y_valid)"
      ],
      "execution_count": null,
      "outputs": []
    },
    {
      "cell_type": "code",
      "metadata": {
        "id": "REzRWTu5l37T"
      },
      "source": [
        "X_valid.columns.values"
      ],
      "execution_count": null,
      "outputs": []
    },
    {
      "cell_type": "code",
      "metadata": {
        "id": "A6Zo2EVUzo0R"
      },
      "source": [
        "# Predict Keras model\n",
        "\n",
        "y_test = model.predict(X_test)"
      ],
      "execution_count": null,
      "outputs": []
    },
    {
      "cell_type": "code",
      "metadata": {
        "id": "AYv9ntTM3cXi"
      },
      "source": [
        "# Make submission file \n",
        "\n",
        "submission = pd.read_csv('./data/sample_submission.csv')\n",
        "submission[[\"중식계\", \"석식계\"]] = y_test\n",
        "submission.to_csv('./data/submission/submission_test4.csv', index=False)"
      ],
      "execution_count": null,
      "outputs": []
    }
  ]
}