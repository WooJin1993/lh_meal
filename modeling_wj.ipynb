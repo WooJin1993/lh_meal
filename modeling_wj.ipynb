{
 "cells": [
  {
   "cell_type": "code",
   "execution_count": null,
   "metadata": {},
   "outputs": [],
   "source": [
    "!pip install -U gast==0.2.2"
   ]
  },
  {
   "cell_type": "code",
   "execution_count": null,
   "metadata": {},
   "outputs": [],
   "source": [
    "from keras.models import Sequential\n",
    "from keras.layers import Dense, Dropout, Activation\n",
    "import numpy as np\n",
    "import pandas as pd\n",
    "from sklearn.model_selection import train_test_split\n",
    "import warnings\n",
    "\n",
    "warnings.filterwarnings('ignore')"
   ]
  },
  {
   "cell_type": "code",
   "execution_count": null,
   "metadata": {},
   "outputs": [],
   "source": [
    "# Load data\n",
    "\n",
    "train = pd.read_csv('./data/train_wj.csv') # load train data\n",
    "test = pd.read_csv('./data/test_wj.csv') # load test data"
   ]
  },
  {
   "cell_type": "code",
   "execution_count": null,
   "metadata": {},
   "outputs": [],
   "source": [
    "train = pd.get_dummies(train, columns=[\"dow\"], prefix=\"dow\", drop_first=True)\n",
    "test = pd.get_dummies(test, columns=[\"dow\"], prefix=\"dow\", drop_first=True)"
   ]
  },
  {
   "cell_type": "code",
   "execution_count": null,
   "metadata": {},
   "outputs": [],
   "source": [
    "# 모델에 넣을 데이터 만들기\n",
    "\n",
    "test_cols = test.columns.values\n",
    "X_cols_rm = [\"n_id\", \"id\", \"date\", \"title\", \"content\", \"info\", \"content_tokens\", \"title_tokens\"]\n",
    "X_cols = test_cols[np.isin(test_cols, X_cols_rm, invert = True)]\n",
    "X_test = test.loc[:, X_cols]"
   ]
  },
  {
   "cell_type": "code",
   "execution_count": null,
   "metadata": {},
   "outputs": [],
   "source": [
    "# Split data into x and y\n",
    "\n",
    "train_cols = train.columns.values\n",
    "X_cols_rm = [\"date\", \"breakfast\", \"lunch\", \"dinner\", \"lunch_n\", \"dinner_n\", \"lunch_rate\", \"dinner_rate\"]\n",
    "X_cols = train_cols[np.isin(train_cols, X_cols_rm, invert = True)]\n",
    "y_cols = [\"lunch_n\", \"dinner_n\"]\n",
    "\n",
    "X_train = train.loc[:, X_cols] # input of train data\n",
    "y_train = train.loc[:, y_cols] # output of train data\n",
    "X_test = test.loc[:, X_cols]   # input of test data"
   ]
  },
  {
   "cell_type": "code",
   "execution_count": null,
   "metadata": {},
   "outputs": [],
   "source": [
    "# Split train data into train data and valid data\n",
    "\n",
    "train_sample, valid = train_test_split(train, test_size=0.2) # randomly sample 80% of train data"
   ]
  },
  {
   "cell_type": "code",
   "execution_count": null,
   "metadata": {},
   "outputs": [],
   "source": [
    "# Split data into x and y\n",
    "\n",
    "X_train_sample = train_sample.loc[:, X_cols]  # input of train_sample data\n",
    "y_train_sample = train_sample.loc[:, y_cols]  # output of train_sample data\n",
    "X_valid = valid.loc[:, X_cols]                # input of valid data\n",
    "y_valid = valid.loc[:, y_cols]                # output of valid data"
   ]
  },
  {
   "cell_type": "code",
   "execution_count": null,
   "metadata": {},
   "outputs": [],
   "source": [
    "# Define Keras model\n",
    "\n",
    "model = Sequential()\n",
    "model.add(Dense(units=256, activation='relu', input_dim=X_train.shape[1]))\n",
    "model.add(Dense(units=128, activation='relu'))\n",
    "model.add(Dense(units=64, activation='relu'))\n",
    "model.add(Dense(units=32, activation='relu'))\n",
    "model.add(Dense(units=16, activation='relu'))\n",
    "model.add(Dense(units=len(y_cols), activation='linear'))"
   ]
  },
  {
   "cell_type": "code",
   "execution_count": null,
   "metadata": {},
   "outputs": [],
   "source": [
    "# Compile Keras model\n",
    "\n",
    "model.compile(loss='mae', optimizer='adam', metrics=['mae'])"
   ]
  },
  {
   "cell_type": "code",
   "execution_count": null,
   "metadata": {},
   "outputs": [],
   "source": [
    "# Fit Keras model\n",
    "\n",
    "epochs = 100\n",
    "batch = 50\n",
    "valid_split = 0.1\n",
    "\n",
    "model.fit(X_train_sample,\n",
    "          y_train_sample, \n",
    "          epochs=epochs, \n",
    "          batch_size=batch, \n",
    "          validation_split=valid_split)"
   ]
  },
  {
   "cell_type": "code",
   "execution_count": null,
   "metadata": {},
   "outputs": [],
   "source": [
    "# Evaluate Keras model\n",
    "\n",
    "model.evaluate(X_valid, y_valid)"
   ]
  },
  {
   "cell_type": "code",
   "execution_count": null,
   "metadata": {},
   "outputs": [],
   "source": [
    "# Predict Keras model\n",
    "\n",
    "y_test = model.predict(X_test)"
   ]
  },
  {
   "cell_type": "code",
   "execution_count": null,
   "metadata": {},
   "outputs": [],
   "source": [
    "y_test"
   ]
  },
  {
   "cell_type": "code",
   "execution_count": null,
   "metadata": {},
   "outputs": [],
   "source": [
    "# Make submission file \n",
    "\n",
    "sub_index = pd.read_csv('sample_submission.csv', index_col=0)\n",
    "submission = sub_index + test_Y\n",
    "submission.to_csv('submission1_0129.csv')"
   ]
  }
 ],
 "metadata": {
  "kernelspec": {
   "display_name": "python3.6",
   "language": "python",
   "name": "python3.6"
  },
  "language_info": {
   "codemirror_mode": {
    "name": "ipython",
    "version": 3
   },
   "file_extension": ".py",
   "mimetype": "text/x-python",
   "name": "python",
   "nbconvert_exporter": "python",
   "pygments_lexer": "ipython3",
   "version": "3.6.8"
  }
 },
 "nbformat": 4,
 "nbformat_minor": 4
}
